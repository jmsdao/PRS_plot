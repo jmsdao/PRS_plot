{
 "cells": [
  {
   "cell_type": "markdown",
   "id": "ce4af8ca",
   "metadata": {},
   "source": [
    "# What we are doing\n",
    "- We are following a portion of a tutorial outlined in this paper: https://doi.org/10.1038/s41596-020-0353-1.\n",
    "- The portion we are following is running a PRS analysis of height, using simulated data.\n",
    "- We will take data files provided, do necessary data wrangling to get the data in the right format.\n",
    "- After the data is in the right format, we will perform PRS using PRSice-2.\n",
    "- We will run a scatter plot of our results, and compare it to sample results.\n",
    "\n",
    "# Requirements\n",
    "- Download `post-qc.zip` from [this link](https://drive.google.com/file/d/1x_G0Gxk9jFMY-PMqwtg6-vdEyUPp5p5u/view) and unzip its contents into the same directory as this notebook.\n",
    "- Download PRSice-2 from [this link](https://www.prsice.info/), and place it in the same directory as the contents of this notebook.\n",
    "    - Note: depending on your OS, you will need to download the correct executable and adapt some of the code provided in this notebook.\n",
    "    - Windows users can use the Linux executable via WSL (Windows Subsystem for Linux)."
   ]
  },
  {
   "cell_type": "code",
   "execution_count": 1,
   "id": "a05774d7",
   "metadata": {
    "execution": {
     "iopub.execute_input": "2021-06-04T07:39:14.615018Z",
     "iopub.status.busy": "2021-06-04T07:39:14.615018Z",
     "iopub.status.idle": "2021-06-04T07:39:16.100670Z",
     "shell.execute_reply": "2021-06-04T07:39:16.100670Z",
     "shell.execute_reply.started": "2021-06-04T07:39:14.615018Z"
    },
    "tags": []
   },
   "outputs": [],
   "source": [
    "import matplotlib.pyplot as plt\n",
    "import pandas as pd\n",
    "import seaborn as sns\n",
    "sns.set()"
   ]
  },
  {
   "cell_type": "markdown",
   "id": "6b75fe84",
   "metadata": {},
   "source": [
    "## Data wrangling\n",
    "Before we run PRSice-2, we need a single covariate file, which can be obtained by merging sex data from `EUR.cov` and principal components from `EUR.eigenvec`. We will write the merged data to a file called `EUR.covariate`."
   ]
  },
  {
   "cell_type": "code",
   "execution_count": 2,
   "id": "75cec787",
   "metadata": {
    "execution": {
     "iopub.execute_input": "2021-06-04T07:39:16.100670Z",
     "iopub.status.busy": "2021-06-04T07:39:16.100670Z",
     "iopub.status.idle": "2021-06-04T07:39:16.138791Z",
     "shell.execute_reply": "2021-06-04T07:39:16.130319Z",
     "shell.execute_reply.started": "2021-06-04T07:39:16.100670Z"
    },
    "tags": []
   },
   "outputs": [],
   "source": [
    "cov = pd.read_csv('EUR.cov', sep='\\t')\n",
    "pcs = pd.read_csv('EUR.eigenvec', sep='\\s+', header=None)\n",
    "pcs.columns = ['FID', 'IID', 'PC1', 'PC2', 'PC3', 'PC4', 'PC5', 'PC6']\n",
    "\n",
    "covariate = pd.merge(cov, pcs, on=['FID', 'IID'])\n",
    "covariate.to_csv('EUR.covariate', index=False, sep='\\t')"
   ]
  },
  {
   "cell_type": "markdown",
   "id": "a865f397",
   "metadata": {},
   "source": [
    "## Running a PRS analysis with PRSice-2\n",
    "We will use the PRSice executable we downloaded to run the PRS analysis on our data files.  \n",
    "Note: you may need to adapt the code here to match your OS.\n",
    "\n",
    "You can also do this step outside of the notebook (just make sure the output files are in the same directoy as this notebook).\n",
    "\n",
    "#### PRSice parameter descriptions\n",
    "\n",
    "| Parameter     | Value         | Description                                                                                          |\n",
    "|---------------|---------------|------------------------------------------------------------------------------------------------------|\n",
    "| base          | Height.QC.gz  | Informs PRSice that the name of the GWAS summary statistic                                           |\n",
    "| target        | EUR.QC        | Informs PRSice that the input genotype files should have a prefix of `EUR.QC`                          |\n",
    "| binary-target | F             | Indicate if the phenotype of interest is a binary trait. F for false.                                    |\n",
    "| pheno         | EUR.height    | Provide PRSice with the phenotype file                                                               |\n",
    "| cov           | EUR.covariate | Provide PRSice with the covariate file                                                               |\n",
    "| base-maf      | MAF:0.01      | Filter out SNPs with MAF < 0.01 in the GWAS summary statistics, using information in the `MAF` column  |\n",
    "| base-info     | INFO:0.8      | Filter out SNPs with INFO < 0.8 in the GWAS summary statistics, using information in the `INFO` column |\n",
    "| stat          | OR            | Column name of the column containing the effect size                                                 |\n",
    "| or            |              | Inform PRSice that the effect size is an Odds Ratio                                                   |\n",
    "| out           | EUR           | Informs PRSice that all output should have a prefix of `EUR`   "
   ]
  },
  {
   "cell_type": "code",
   "execution_count": 3,
   "id": "193b391a",
   "metadata": {
    "execution": {
     "iopub.execute_input": "2021-06-04T07:39:16.139375Z",
     "iopub.status.busy": "2021-06-04T07:39:16.139375Z",
     "iopub.status.idle": "2021-06-04T07:39:31.014291Z",
     "shell.execute_reply": "2021-06-04T07:39:31.014291Z",
     "shell.execute_reply.started": "2021-06-04T07:39:16.139375Z"
    },
    "tags": []
   },
   "outputs": [
    {
     "name": "stderr",
     "output_type": "stream",
     "text": [
      "PRSice 2.3.3 (2020-08-05) \n",
      "https://github.com/choishingwan/PRSice\n",
      "(C) 2016-2020 Shing Wan (Sam) Choi and Paul F. O'Reilly\n",
      "GNU General Public License v3\n",
      "If you use PRSice in any published work, please cite:\n",
      "Choi SW, O'Reilly PF.\n",
      "PRSice-2: Polygenic Risk Score Software for Biobank-Scale Data.\n",
      "GigaScience 8, no. 7 (July 1, 2019)\n",
      "2021-06-04 17:39:16\n",
      "./PRSice_linux \\\n",
      "    --a1 A1 \\\n",
      "    --a2 A2 \\\n",
      "    --bar-levels 0.001,0.05,0.1,0.2,0.3,0.4,0.5,1 \\\n",
      "    --base Height.QC.gz \\\n",
      "    --base-info INFO:0.8 \\\n",
      "    --base-maf MAF:0.01 \\\n",
      "    --binary-target F \\\n",
      "    --bp BP \\\n",
      "    --chr CHR \\\n",
      "    --clump-kb 250kb \\\n",
      "    --clump-p 1.000000 \\\n",
      "    --clump-r2 0.100000 \\\n",
      "    --cov EUR.covariate \\\n",
      "    --interval 5e-05 \\\n",
      "    --lower 5e-08 \\\n",
      "    --num-auto 22 \\\n",
      "    --or  \\\n",
      "    --out EUR \\\n",
      "    --pheno EUR.height \\\n",
      "    --pvalue P \\\n",
      "    --seed 209189107 \\\n",
      "    --snp SNP \\\n",
      "    --stat OR \\\n",
      "    --target EUR.QC \\\n",
      "    --thread 1 \\\n",
      "    --upper 0.5\n",
      "\n",
      "Initializing Genotype file: EUR.QC (bed) \n",
      "\n",
      "Start processing Height.QC \n",
      "================================================== \n",
      "\n",
      "Base file: Height.QC.gz \n",
      "GZ file detected. Header of file is: \n",
      "CHR\tBP\tSNP\tA1\tA2\tN\tSE\tP\tOR\tINFO\tMAF \n",
      "\n",
      "Reading 100.00%\n",
      "499617 variant(s) observed in base file, with: \n",
      "499617 total variant(s) included from base file \n",
      "\n",
      "Loading Genotype info from target \n",
      "================================================== \n",
      "\n",
      "483 people (232 male(s), 251 female(s)) observed \n",
      "483 founder(s) included \n",
      "\n",
      "489805 variant(s) included \n",
      "\n",
      "Phenotype file: EUR.height \n",
      "Column Name of Sample ID: FID+IID \n",
      "Note: If the phenotype file does not contain a header, the \n",
      "column name will be displayed as the Sample ID which is \n",
      "expected. \n",
      "\n",
      "There are a total of 1 phenotype to process \n",
      "\n",
      "Start performing clumping \n",
      "\n",
      "Clumping Progress: 100.00%\n",
      "Number of variant(s) after clumping : 193758 \n",
      "\n",
      "Processing the 1 th phenotype \n",
      "\n",
      "Height is a continuous phenotype \n",
      "11 sample(s) without phenotype \n",
      "472 sample(s) with valid phenotype \n",
      "\n",
      "Processing the covariate file: EUR.covariate \n",
      "============================== \n",
      "\n",
      "Include Covariates: \n",
      "Name\tMissing\tNumber of levels \n",
      "Sex\t0\t- \n",
      "PC1\t0\t- \n",
      "PC2\t0\t- \n",
      "PC3\t0\t- \n",
      "PC4\t0\t- \n",
      "PC5\t0\t- \n",
      "PC6\t0\t- \n",
      "\n",
      "After reading the covariate file, 472 sample(s) included in \n",
      "the analysis \n",
      "\n",
      "\n",
      "Start Processing\n",
      "Processing 100.00%\n",
      "There are 1 region(s) with p-value less than 1e-5. Please \n",
      "note that these results are inflated due to the overfitting \n",
      "inherent in finding the best-fit PRS (but it's still best \n",
      "to find the best-fit PRS!). \n",
      "You can use the --perm option (see manual) to calculate an \n",
      "empirical P-value. \n",
      "\n"
     ]
    }
   ],
   "source": [
    "%%bash\n",
    "./PRSice_linux \\\n",
    "    --base Height.QC.gz \\\n",
    "    --target EUR.QC \\\n",
    "    --binary-target F \\\n",
    "    --pheno EUR.height \\\n",
    "    --cov EUR.covariate \\\n",
    "    --base-maf MAF:0.01 \\\n",
    "    --base-info INFO:0.8 \\\n",
    "    --stat OR \\\n",
    "    --or \\\n",
    "    --out EUR"
   ]
  },
  {
   "cell_type": "markdown",
   "id": "504f6d47",
   "metadata": {},
   "source": [
    "## Some final data wrangling\n",
    "We need to merge height data from `EUR.height`, sex data from `EUR.cov` with polygenic scores from `EUR.best`.  \n",
    "We will also make the sex data human readable by converting `1 -> Female` and `2 -> Male`."
   ]
  },
  {
   "cell_type": "code",
   "execution_count": 4,
   "id": "475f291d",
   "metadata": {
    "execution": {
     "iopub.execute_input": "2021-06-04T07:39:31.014291Z",
     "iopub.status.busy": "2021-06-04T07:39:31.014291Z",
     "iopub.status.idle": "2021-06-04T07:39:31.070339Z",
     "shell.execute_reply": "2021-06-04T07:39:31.070339Z",
     "shell.execute_reply.started": "2021-06-04T07:39:31.014291Z"
    },
    "tags": []
   },
   "outputs": [
    {
     "data": {
      "text/html": [
       "<div>\n",
       "<style scoped>\n",
       "    .dataframe tbody tr th:only-of-type {\n",
       "        vertical-align: middle;\n",
       "    }\n",
       "\n",
       "    .dataframe tbody tr th {\n",
       "        vertical-align: top;\n",
       "    }\n",
       "\n",
       "    .dataframe thead th {\n",
       "        text-align: right;\n",
       "    }\n",
       "</style>\n",
       "<table border=\"1\" class=\"dataframe\">\n",
       "  <thead>\n",
       "    <tr style=\"text-align: right;\">\n",
       "      <th></th>\n",
       "      <th>FID</th>\n",
       "      <th>IID</th>\n",
       "      <th>Height</th>\n",
       "      <th>In_Regression</th>\n",
       "      <th>PRS</th>\n",
       "      <th>Sex</th>\n",
       "    </tr>\n",
       "  </thead>\n",
       "  <tbody>\n",
       "    <tr>\n",
       "      <th>0</th>\n",
       "      <td>HG00096</td>\n",
       "      <td>HG00096</td>\n",
       "      <td>169.132169</td>\n",
       "      <td>Yes</td>\n",
       "      <td>-0.000019</td>\n",
       "      <td>Female</td>\n",
       "    </tr>\n",
       "    <tr>\n",
       "      <th>1</th>\n",
       "      <td>HG00097</td>\n",
       "      <td>HG00097</td>\n",
       "      <td>171.256259</td>\n",
       "      <td>Yes</td>\n",
       "      <td>0.000013</td>\n",
       "      <td>Male</td>\n",
       "    </tr>\n",
       "    <tr>\n",
       "      <th>2</th>\n",
       "      <td>HG00099</td>\n",
       "      <td>HG00099</td>\n",
       "      <td>171.534380</td>\n",
       "      <td>Yes</td>\n",
       "      <td>-0.000003</td>\n",
       "      <td>Male</td>\n",
       "    </tr>\n",
       "    <tr>\n",
       "      <th>3</th>\n",
       "      <td>HG00101</td>\n",
       "      <td>HG00101</td>\n",
       "      <td>169.850176</td>\n",
       "      <td>Yes</td>\n",
       "      <td>0.000009</td>\n",
       "      <td>Female</td>\n",
       "    </tr>\n",
       "    <tr>\n",
       "      <th>4</th>\n",
       "      <td>HG00102</td>\n",
       "      <td>HG00102</td>\n",
       "      <td>172.788361</td>\n",
       "      <td>Yes</td>\n",
       "      <td>0.000017</td>\n",
       "      <td>Male</td>\n",
       "    </tr>\n",
       "  </tbody>\n",
       "</table>\n",
       "</div>"
      ],
      "text/plain": [
       "       FID      IID      Height In_Regression       PRS     Sex\n",
       "0  HG00096  HG00096  169.132169           Yes -0.000019  Female\n",
       "1  HG00097  HG00097  171.256259           Yes  0.000013    Male\n",
       "2  HG00099  HG00099  171.534380           Yes -0.000003    Male\n",
       "3  HG00101  HG00101  169.850176           Yes  0.000009  Female\n",
       "4  HG00102  HG00102  172.788361           Yes  0.000017    Male"
      ]
     },
     "execution_count": 4,
     "metadata": {},
     "output_type": "execute_result"
    }
   ],
   "source": [
    "best = pd.read_csv('EUR.best', sep='\\s+')\n",
    "height = pd.read_csv('EUR.height', sep='\\s+')\n",
    "cov = pd.read_csv('EUR.cov', sep='\\s+')\n",
    "\n",
    "results = pd.merge(height, best, on=['FID', 'IID'])\n",
    "results = pd.merge(results, cov, on=['FID', 'IID'])\n",
    "\n",
    "results['Sex'] = results['Sex'].apply(lambda x: 'Female' if x == 1 else 'Male')\n",
    "results.head()"
   ]
  },
  {
   "cell_type": "markdown",
   "id": "16cfb6e8",
   "metadata": {},
   "source": [
    "## Plotting our results\n",
    "For each sex, we will  calculate the Pearson correlation coefficient between polygenic score and height to include in our scatter plot."
   ]
  },
  {
   "cell_type": "code",
   "execution_count": 5,
   "id": "0ba2296e",
   "metadata": {
    "execution": {
     "iopub.execute_input": "2021-06-04T07:39:31.070339Z",
     "iopub.status.busy": "2021-06-04T07:39:31.070339Z",
     "iopub.status.idle": "2021-06-04T07:39:31.086340Z",
     "shell.execute_reply": "2021-06-04T07:39:31.086340Z",
     "shell.execute_reply.started": "2021-06-04T07:39:31.070339Z"
    },
    "tags": []
   },
   "outputs": [],
   "source": [
    "females = results[results['Sex'] == 'Female']\n",
    "males = results[results['Sex'] == 'Male']\n",
    "\n",
    "r_female = females[['Height', 'PRS']].corr().iloc[0, 1]\n",
    "r_male = males[['Height', 'PRS']].corr().iloc[0, 1]"
   ]
  },
  {
   "cell_type": "code",
   "execution_count": 6,
   "id": "3638fefe",
   "metadata": {
    "execution": {
     "iopub.execute_input": "2021-06-04T07:39:31.090339Z",
     "iopub.status.busy": "2021-06-04T07:39:31.090339Z",
     "iopub.status.idle": "2021-06-04T07:39:31.363130Z",
     "shell.execute_reply": "2021-06-04T07:39:31.363130Z",
     "shell.execute_reply.started": "2021-06-04T07:39:31.090339Z"
    },
    "tags": []
   },
   "outputs": [
    {
     "data": {
      "image/png": "[encoded data removed]",
      "text/plain": [
       "<Figure size 576x720 with 1 Axes>"
      ]
     },
     "metadata": {},
     "output_type": "display_data"
    }
   ],
   "source": [
    "plt.figure(figsize=(8, 10))\n",
    "\n",
    "plt.scatter(females['PRS'], females['Height'],\n",
    "            c='deeppink', edgecolors='w', s=60,\n",
    "            label='Female, r={:.3f}'.format(r_female))\n",
    "plt.scatter(males['PRS'], males['Height'],\n",
    "            c='mediumblue', edgecolors='w', s=60,\n",
    "            label='Male, r={:.3f}'.format(r_male))\n",
    "\n",
    "plt.legend(loc='lower right', title='Key')\n",
    "\n",
    "plt.xlabel('Polygenic Score')\n",
    "plt.ylabel('Height (cm)');"
   ]
  },
  {
   "cell_type": "markdown",
   "id": "05d63cb6",
   "metadata": {},
   "source": [
    "## Comparing our results\n",
    "The authors of the paper (Choi et al.) also ran an analysis on the same data and made a scatter plot. Let's compare plots to see how well we did.\n",
    "\n",
    "Choi et al.'s scatter plot can be found at the bottom of [this page](https://choishingwan.github.io/PRS-Tutorial/plink_visual/).\n",
    "\n",
    "It looks good!\n",
    "\n",
    "There are some minor discrepancies as Choi et al.'s PRS analysis was generated using a manually picked P-value threshold of 0.3, whereas our analysis' P-value threshold was picked by PRSice's \"best-fit\" algorithm."
   ]
  }
 ],
 "metadata": {
  "kernelspec": {
   "display_name": "Python 3",
   "language": "python",
   "name": "python3"
  },
  "language_info": {
   "codemirror_mode": {
    "name": "ipython",
    "version": 3
   },
   "file_extension": ".py",
   "mimetype": "text/x-python",
   "name": "python",
   "nbconvert_exporter": "python",
   "pygments_lexer": "ipython3",
   "version": "3.8.8"
  }
 },
 "nbformat": 4,
 "nbformat_minor": 5
}
